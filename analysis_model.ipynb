{
 "cells": [
  {
   "cell_type": "code",
   "execution_count": 3,
   "id": "453123be",
   "metadata": {},
   "outputs": [
    {
     "name": "stdout",
     "output_type": "stream",
     "text": [
      "✅ All functions defined successfully!\n"
     ]
    }
   ],
   "source": [
    "# Import required libraries\n",
    "import pandas as pd\n",
    "import numpy as np\n",
    "import matplotlib.pyplot as plt\n",
    "import seaborn as sns\n",
    "from sklearn.model_selection import train_test_split, RandomizedSearchCV\n",
    "from sklearn.linear_model import LogisticRegression\n",
    "from sklearn.ensemble import RandomForestClassifier\n",
    "from sklearn.compose import ColumnTransformer\n",
    "from sklearn.preprocessing import StandardScaler, OneHotEncoder\n",
    "from sklearn.pipeline import Pipeline\n",
    "from sklearn.impute import SimpleImputer\n",
    "from sklearn.metrics import precision_recall_curve, auc, confusion_matrix\n",
    "from xgboost import XGBClassifier\n",
    "import joblib\n",
    "import time\n",
    "from imblearn.over_sampling import SMOTE\n",
    "\n",
    "# Set style for plots\n",
    "sns.set_style('whitegrid')\n",
    "plt.rcParams['figure.figsize'] = (10, 6)\n",
    "\n",
    "# Define all functions directly in the notebook\n",
    "def create_preprocessor():\n",
    "    \"\"\"\n",
    "    Create a preprocessing pipeline\n",
    "    \"\"\"\n",
    "    # Define numeric and categorical features\n",
    "    numeric_features = ['amount', 'oldbalanceOrg', 'newbalanceOrig', \n",
    "                       'oldbalanceDest', 'newbalanceDest']\n",
    "    categorical_features = ['type']\n",
    "    \n",
    "    # Create preprocessing transformers\n",
    "    numeric_transformer = Pipeline(steps=[\n",
    "        ('imputer', SimpleImputer(strategy='median')),\n",
    "        ('scaler', StandardScaler())\n",
    "    ])\n",
    "    \n",
    "    categorical_transformer = Pipeline(steps=[\n",
    "        ('imputer', SimpleImputer(strategy='constant', fill_value='missing')),\n",
    "        ('onehot', OneHotEncoder(handle_unknown='ignore', sparse_output=False))\n",
    "    ])\n",
    "    \n",
    "    # Create column transformer\n",
    "    preprocessor = ColumnTransformer(\n",
    "        transformers=[\n",
    "            ('num', numeric_transformer, numeric_features),\n",
    "            ('cat', categorical_transformer, categorical_features)\n",
    "        ])\n",
    "    \n",
    "    return preprocessor\n",
    "\n",
    "def load_and_preprocess_data(filepath, sampling_method=None):\n",
    "    \"\"\"\n",
    "    Load and preprocess the transaction data\n",
    "    \"\"\"\n",
    "    # Load data\n",
    "    df = pd.read_csv(filepath)\n",
    "    \n",
    "    # Remove leakage columns and identifiers\n",
    "    df = df.drop(['isFlaggedFraud', 'nameOrig', 'nameDest'], axis=1, errors='ignore')\n",
    "    \n",
    "    # Separate features and target\n",
    "    X = df.drop('isFraud', axis=1)\n",
    "    y = df['isFraud']\n",
    "    \n",
    "    # Create and fit preprocessor\n",
    "    preprocessor = create_preprocessor()\n",
    "    X_processed = preprocessor.fit_transform(X)\n",
    "    \n",
    "    # Apply resampling if specified\n",
    "    if sampling_method == 'smote':\n",
    "        sampler = SMOTE(random_state=42)\n",
    "        X_resampled, y_resampled = sampler.fit_resample(X_processed, y)\n",
    "        return X_resampled, y_resampled, preprocessor\n",
    "    \n",
    "    return X_processed, y, preprocessor\n",
    "\n",
    "def _calculate_confusion_matrix(y_true, y_pred):\n",
    "    \"\"\"Calculate confusion matrix components\"\"\"\n",
    "    tn, fp, fn, tp = confusion_matrix(y_true, y_pred).ravel()\n",
    "    return tn, fp, fn, tp\n",
    "\n",
    "def _calculate_business_impact(fp, fn):\n",
    "    \"\"\"\n",
    "    Calculate business impact based on the problem statement\n",
    "    False positives cost 5x more than false negatives\n",
    "    \"\"\"\n",
    "    false_negative_cost = fn * 1  # Base cost of $1 for false negatives\n",
    "    false_positive_cost = fp * 5  # 5x more expensive\n",
    "    return false_negative_cost + false_positive_cost\n",
    "\n",
    "def train_models_simple(X, y, test_size=0.2, random_state=42):\n",
    "    \"\"\"\n",
    "    Train and compare multiple models (simplified version without parallel processing)\n",
    "    \"\"\"\n",
    "    # Split data\n",
    "    X_train, X_test, y_train, y_test = train_test_split(\n",
    "        X, y, test_size=test_size, random_state=random_state, stratify=y\n",
    "    )\n",
    "    \n",
    "    # Define models with simpler parameter grids\n",
    "    models = {\n",
    "        'LogisticRegression': LogisticRegression(\n",
    "            random_state=random_state, \n",
    "            class_weight='balanced',\n",
    "            C=0.1,\n",
    "            solver='liblinear'\n",
    "        ),\n",
    "        'RandomForest': RandomForestClassifier(\n",
    "            random_state=random_state, \n",
    "            class_weight='balanced',\n",
    "            n_estimators=100,\n",
    "            max_depth=10\n",
    "        ),\n",
    "        'XGBoost': XGBClassifier(\n",
    "            random_state=random_state, \n",
    "            eval_metric='logloss',\n",
    "            n_estimators=100,\n",
    "            max_depth=6,\n",
    "            learning_rate=0.1\n",
    "        )\n",
    "    }\n",
    "    \n",
    "    results = {}\n",
    "    \n",
    "    for name, model in models.items():\n",
    "        print(f\"Training {name}...\")\n",
    "        start_time = time.time()\n",
    "        \n",
    "        # Train the model\n",
    "        model.fit(X_train, y_train)\n",
    "        \n",
    "        # Make predictions\n",
    "        y_pred = model.predict(X_test)\n",
    "        y_pred_proba = model.predict_proba(X_test)[:, 1]\n",
    "        \n",
    "        # Calculate precision-recall AUC\n",
    "        precision, recall, _ = precision_recall_curve(y_test, y_pred_proba)\n",
    "        pr_auc = auc(recall, precision)\n",
    "        \n",
    "        # Calculate business impact\n",
    "        tn, fp, fn, tp = _calculate_confusion_matrix(y_test, y_pred)\n",
    "        business_impact = _calculate_business_impact(fp, fn)\n",
    "        \n",
    "        # Store results\n",
    "        results[name] = {\n",
    "            'model': model,\n",
    "            'pr_auc': pr_auc,\n",
    "            'business_impact': business_impact,\n",
    "            'training_time': time.time() - start_time,\n",
    "            'confusion_matrix': (tn, fp, fn, tp)\n",
    "        }\n",
    "        \n",
    "        print(f\"{name} completed in {time.time() - start_time:.2f} seconds\")\n",
    "        print(f\"Precision-Recall AUC: {pr_auc:.4f}\")\n",
    "        print(f\"Business impact: ${business_impact:,.2f}\")\n",
    "        print(\"-\" * 50)\n",
    "    \n",
    "    return results, X_test, y_test\n",
    "\n",
    "def select_best_model(results):\n",
    "    \"\"\"Select the best model based on multiple criteria\"\"\"\n",
    "    best_score = -float('inf')\n",
    "    best_model_name = None\n",
    "    \n",
    "    for name, result in results.items():\n",
    "        # Combined score (weighted average of PR AUC and inverse business impact)\n",
    "        max_impact = max(r['business_impact'] for r in results.values())\n",
    "        normalized_impact = 1 - (result['business_impact'] / max_impact)\n",
    "        combined_score = 0.7 * result['pr_auc'] + 0.3 * normalized_impact\n",
    "        \n",
    "        if combined_score > best_score:\n",
    "            best_score = combined_score\n",
    "            best_model_name = name\n",
    "    \n",
    "    return best_model_name, results[best_model_name]\n",
    "\n",
    "def save_model(model, filename):\n",
    "    \"\"\"Save the model to a file\"\"\"\n",
    "    joblib.dump(model, filename)\n",
    "\n",
    "print(\"✅ All functions defined successfully!\")"
   ]
  },
  {
   "cell_type": "code",
   "execution_count": 4,
   "id": "ce356379",
   "metadata": {},
   "outputs": [
    {
     "name": "stdout",
     "output_type": "stream",
     "text": [
      "Dataset shape: (1048575, 11)\n",
      "\n",
      "Column names:\n",
      "['step', 'type', 'amount', 'nameOrig', 'oldbalanceOrg', 'newbalanceOrig', 'nameDest', 'oldbalanceDest', 'newbalanceDest', 'isFraud', 'isFlaggedFraud']\n",
      "\n",
      "First few rows:\n"
     ]
    },
    {
     "data": {
      "application/vnd.microsoft.datawrangler.viewer.v0+json": {
       "columns": [
        {
         "name": "index",
         "rawType": "int64",
         "type": "integer"
        },
        {
         "name": "step",
         "rawType": "int64",
         "type": "integer"
        },
        {
         "name": "type",
         "rawType": "object",
         "type": "string"
        },
        {
         "name": "amount",
         "rawType": "float64",
         "type": "float"
        },
        {
         "name": "nameOrig",
         "rawType": "object",
         "type": "string"
        },
        {
         "name": "oldbalanceOrg",
         "rawType": "float64",
         "type": "float"
        },
        {
         "name": "newbalanceOrig",
         "rawType": "float64",
         "type": "float"
        },
        {
         "name": "nameDest",
         "rawType": "object",
         "type": "string"
        },
        {
         "name": "oldbalanceDest",
         "rawType": "float64",
         "type": "float"
        },
        {
         "name": "newbalanceDest",
         "rawType": "float64",
         "type": "float"
        },
        {
         "name": "isFraud",
         "rawType": "int64",
         "type": "integer"
        },
        {
         "name": "isFlaggedFraud",
         "rawType": "int64",
         "type": "integer"
        }
       ],
       "ref": "22fa6f21-e2f8-4917-8997-3104eec42acc",
       "rows": [
        [
         "0",
         "1",
         "PAYMENT",
         "9839.64",
         "C1231006815",
         "170136.0",
         "160296.36",
         "M1979787155",
         "0.0",
         "0.0",
         "0",
         "0"
        ],
        [
         "1",
         "1",
         "PAYMENT",
         "1864.28",
         "C1666544295",
         "21249.0",
         "19384.72",
         "M2044282225",
         "0.0",
         "0.0",
         "0",
         "0"
        ],
        [
         "2",
         "1",
         "TRANSFER",
         "181.0",
         "C1305486145",
         "181.0",
         "0.0",
         "C553264065",
         "0.0",
         "0.0",
         "1",
         "0"
        ],
        [
         "3",
         "1",
         "CASH_OUT",
         "181.0",
         "C840083671",
         "181.0",
         "0.0",
         "C38997010",
         "21182.0",
         "0.0",
         "1",
         "0"
        ],
        [
         "4",
         "1",
         "PAYMENT",
         "11668.14",
         "C2048537720",
         "41554.0",
         "29885.86",
         "M1230701703",
         "0.0",
         "0.0",
         "0",
         "0"
        ]
       ],
       "shape": {
        "columns": 11,
        "rows": 5
       }
      },
      "text/html": [
       "<div>\n",
       "<style scoped>\n",
       "    .dataframe tbody tr th:only-of-type {\n",
       "        vertical-align: middle;\n",
       "    }\n",
       "\n",
       "    .dataframe tbody tr th {\n",
       "        vertical-align: top;\n",
       "    }\n",
       "\n",
       "    .dataframe thead th {\n",
       "        text-align: right;\n",
       "    }\n",
       "</style>\n",
       "<table border=\"1\" class=\"dataframe\">\n",
       "  <thead>\n",
       "    <tr style=\"text-align: right;\">\n",
       "      <th></th>\n",
       "      <th>step</th>\n",
       "      <th>type</th>\n",
       "      <th>amount</th>\n",
       "      <th>nameOrig</th>\n",
       "      <th>oldbalanceOrg</th>\n",
       "      <th>newbalanceOrig</th>\n",
       "      <th>nameDest</th>\n",
       "      <th>oldbalanceDest</th>\n",
       "      <th>newbalanceDest</th>\n",
       "      <th>isFraud</th>\n",
       "      <th>isFlaggedFraud</th>\n",
       "    </tr>\n",
       "  </thead>\n",
       "  <tbody>\n",
       "    <tr>\n",
       "      <th>0</th>\n",
       "      <td>1</td>\n",
       "      <td>PAYMENT</td>\n",
       "      <td>9839.64</td>\n",
       "      <td>C1231006815</td>\n",
       "      <td>170136.0</td>\n",
       "      <td>160296.36</td>\n",
       "      <td>M1979787155</td>\n",
       "      <td>0.0</td>\n",
       "      <td>0.0</td>\n",
       "      <td>0</td>\n",
       "      <td>0</td>\n",
       "    </tr>\n",
       "    <tr>\n",
       "      <th>1</th>\n",
       "      <td>1</td>\n",
       "      <td>PAYMENT</td>\n",
       "      <td>1864.28</td>\n",
       "      <td>C1666544295</td>\n",
       "      <td>21249.0</td>\n",
       "      <td>19384.72</td>\n",
       "      <td>M2044282225</td>\n",
       "      <td>0.0</td>\n",
       "      <td>0.0</td>\n",
       "      <td>0</td>\n",
       "      <td>0</td>\n",
       "    </tr>\n",
       "    <tr>\n",
       "      <th>2</th>\n",
       "      <td>1</td>\n",
       "      <td>TRANSFER</td>\n",
       "      <td>181.00</td>\n",
       "      <td>C1305486145</td>\n",
       "      <td>181.0</td>\n",
       "      <td>0.00</td>\n",
       "      <td>C553264065</td>\n",
       "      <td>0.0</td>\n",
       "      <td>0.0</td>\n",
       "      <td>1</td>\n",
       "      <td>0</td>\n",
       "    </tr>\n",
       "    <tr>\n",
       "      <th>3</th>\n",
       "      <td>1</td>\n",
       "      <td>CASH_OUT</td>\n",
       "      <td>181.00</td>\n",
       "      <td>C840083671</td>\n",
       "      <td>181.0</td>\n",
       "      <td>0.00</td>\n",
       "      <td>C38997010</td>\n",
       "      <td>21182.0</td>\n",
       "      <td>0.0</td>\n",
       "      <td>1</td>\n",
       "      <td>0</td>\n",
       "    </tr>\n",
       "    <tr>\n",
       "      <th>4</th>\n",
       "      <td>1</td>\n",
       "      <td>PAYMENT</td>\n",
       "      <td>11668.14</td>\n",
       "      <td>C2048537720</td>\n",
       "      <td>41554.0</td>\n",
       "      <td>29885.86</td>\n",
       "      <td>M1230701703</td>\n",
       "      <td>0.0</td>\n",
       "      <td>0.0</td>\n",
       "      <td>0</td>\n",
       "      <td>0</td>\n",
       "    </tr>\n",
       "  </tbody>\n",
       "</table>\n",
       "</div>"
      ],
      "text/plain": [
       "   step      type    amount     nameOrig  oldbalanceOrg  newbalanceOrig  \\\n",
       "0     1   PAYMENT   9839.64  C1231006815       170136.0       160296.36   \n",
       "1     1   PAYMENT   1864.28  C1666544295        21249.0        19384.72   \n",
       "2     1  TRANSFER    181.00  C1305486145          181.0            0.00   \n",
       "3     1  CASH_OUT    181.00   C840083671          181.0            0.00   \n",
       "4     1   PAYMENT  11668.14  C2048537720        41554.0        29885.86   \n",
       "\n",
       "      nameDest  oldbalanceDest  newbalanceDest  isFraud  isFlaggedFraud  \n",
       "0  M1979787155             0.0             0.0        0               0  \n",
       "1  M2044282225             0.0             0.0        0               0  \n",
       "2   C553264065             0.0             0.0        1               0  \n",
       "3    C38997010         21182.0             0.0        1               0  \n",
       "4  M1230701703             0.0             0.0        0               0  "
      ]
     },
     "execution_count": 4,
     "metadata": {},
     "output_type": "execute_result"
    }
   ],
   "source": [
    "# Load the data\n",
    "df = pd.read_csv('data/Transactions.csv')\n",
    "\n",
    "# Display basic information\n",
    "print(\"Dataset shape:\", df.shape)\n",
    "print(\"\\nColumn names:\")\n",
    "print(df.columns.tolist())\n",
    "print(\"\\nFirst few rows:\")\n",
    "df.head()"
   ]
  },
  {
   "cell_type": "code",
   "execution_count": 5,
   "id": "00ccb029",
   "metadata": {},
   "outputs": [
    {
     "name": "stdout",
     "output_type": "stream",
     "text": [
      "Missing values per column:\n",
      "step              0\n",
      "type              0\n",
      "amount            0\n",
      "nameOrig          0\n",
      "oldbalanceOrg     0\n",
      "newbalanceOrig    0\n",
      "nameDest          0\n",
      "oldbalanceDest    0\n",
      "newbalanceDest    0\n",
      "isFraud           0\n",
      "isFlaggedFraud    0\n",
      "dtype: int64\n",
      "\n",
      "Fraud percentage: 0.1089%\n",
      "Class distribution:\n",
      "isFraud\n",
      "0    1047433\n",
      "1       1142\n",
      "Name: count, dtype: int64\n"
     ]
    }
   ],
   "source": [
    "# Check for missing values\n",
    "print(\"Missing values per column:\")\n",
    "print(df.isnull().sum())\n",
    "\n",
    "# Check class distribution\n",
    "fraud_percentage = df['isFraud'].mean() * 100\n",
    "print(f\"\\nFraud percentage: {fraud_percentage:.4f}%\")\n",
    "print(\"Class distribution:\")\n",
    "print(df['isFraud'].value_counts())"
   ]
  },
  {
   "cell_type": "code",
   "execution_count": 6,
   "id": "d3fd6dc4",
   "metadata": {},
   "outputs": [
    {
     "data": {
      "image/png": "[encoded data removed]",
      "text/plain": [
       "<Figure size 800x600 with 1 Axes>"
      ]
     },
     "metadata": {},
     "output_type": "display_data"
    }
   ],
   "source": [
    "# Visualize class distribution\n",
    "plt.figure(figsize=(8, 6))\n",
    "df['isFraud'].value_counts().plot(kind='bar', color=['skyblue', 'salmon'])\n",
    "plt.title('Class Distribution (0 = Legitimate, 1 = Fraud)')\n",
    "plt.xlabel('Transaction Type')\n",
    "plt.ylabel('Count')\n",
    "plt.xticks(rotation=0)\n",
    "plt.show()"
   ]
  },
  {
   "cell_type": "code",
   "execution_count": 7,
   "id": "c8839316",
   "metadata": {},
   "outputs": [
    {
     "name": "stdout",
     "output_type": "stream",
     "text": [
      "Processed dataset shape: (2094866, 10)\n",
      "Processed class distribution: [1047433 1047433]\n"
     ]
    }
   ],
   "source": [
    "# Preprocess the data (using a smaller sample if needed)\n",
    "try:\n",
    "    X_processed, y_processed, preprocessor = load_and_preprocess_data('data/Transactions.csv', 'smote')\n",
    "    print(f\"Processed dataset shape: {X_processed.shape}\")\n",
    "    print(f\"Processed class distribution: {np.bincount(y_processed)}\")\n",
    "except MemoryError:\n",
    "    print(\"Memory error - using smaller sample...\")\n",
    "    # Use a smaller sample if memory is an issue\n",
    "    df_sample = pd.read_csv('data/transactions.csv').sample(frac=0.3, random_state=42)\n",
    "    X_sample = df_sample.drop(['isFraud', 'isFlaggedFraud', 'nameOrig', 'nameDest'], axis=1, errors='ignore')\n",
    "    y_sample = df_sample['isFraud']\n",
    "    \n",
    "    preprocessor = create_preprocessor()\n",
    "    X_processed = preprocessor.fit_transform(X_sample)\n",
    "    \n",
    "    # Apply SMOTE\n",
    "    sampler = SMOTE(random_state=42)\n",
    "    X_processed, y_processed = sampler.fit_resample(X_processed, y_sample)\n",
    "    \n",
    "    print(f\"Processed dataset shape: {X_processed.shape}\")\n",
    "    print(f\"Processed class distribution: {np.bincount(y_processed)}\")"
   ]
  },
  {
   "cell_type": "code",
   "execution_count": 8,
   "id": "a5ec2e7a",
   "metadata": {},
   "outputs": [
    {
     "name": "stdout",
     "output_type": "stream",
     "text": [
      "Training LogisticRegression...\n",
      "LogisticRegression completed in 11.20 seconds\n",
      "Precision-Recall AUC: 0.9894\n",
      "Business impact: $80,191.00\n",
      "--------------------------------------------------\n",
      "Training RandomForest...\n",
      "RandomForest completed in 465.01 seconds\n",
      "Precision-Recall AUC: 0.9992\n",
      "Business impact: $23,698.00\n",
      "--------------------------------------------------\n",
      "Training XGBoost...\n",
      "XGBoost completed in 12.81 seconds\n",
      "Precision-Recall AUC: 0.9994\n",
      "Business impact: $15,513.00\n",
      "--------------------------------------------------\n"
     ]
    }
   ],
   "source": [
    "# Compare models (using simplified version)\n",
    "results, X_test_processed, y_test_processed = train_models_simple(X_processed, y_processed)"
   ]
  },
  {
   "cell_type": "code",
   "execution_count": 9,
   "id": "b17a8c12",
   "metadata": {},
   "outputs": [
    {
     "name": "stdout",
     "output_type": "stream",
     "text": [
      "Model Comparison Results:\n"
     ]
    },
    {
     "data": {
      "application/vnd.microsoft.datawrangler.viewer.v0+json": {
       "columns": [
        {
         "name": "index",
         "rawType": "int64",
         "type": "integer"
        },
        {
         "name": "Model",
         "rawType": "object",
         "type": "string"
        },
        {
         "name": "PR AUC",
         "rawType": "float64",
         "type": "float"
        },
        {
         "name": "Business Impact",
         "rawType": "float64",
         "type": "float"
        },
        {
         "name": "Training Time (s)",
         "rawType": "float64",
         "type": "float"
        }
       ],
       "ref": "adaf7dfb-4566-4881-a044-c3cb56239812",
       "rows": [
        [
         "2",
         "XGBoost",
         "0.999423116635088",
         "15513.0",
         "12.81405520439148"
        ],
        [
         "1",
         "RandomForest",
         "0.9992113014810216",
         "23698.0",
         "465.01210927963257"
        ],
        [
         "0",
         "LogisticRegression",
         "0.9894193505949047",
         "80191.0",
         "11.198100566864014"
        ]
       ],
       "shape": {
        "columns": 4,
        "rows": 3
       }
      },
      "text/html": [
       "<div>\n",
       "<style scoped>\n",
       "    .dataframe tbody tr th:only-of-type {\n",
       "        vertical-align: middle;\n",
       "    }\n",
       "\n",
       "    .dataframe tbody tr th {\n",
       "        vertical-align: top;\n",
       "    }\n",
       "\n",
       "    .dataframe thead th {\n",
       "        text-align: right;\n",
       "    }\n",
       "</style>\n",
       "<table border=\"1\" class=\"dataframe\">\n",
       "  <thead>\n",
       "    <tr style=\"text-align: right;\">\n",
       "      <th></th>\n",
       "      <th>Model</th>\n",
       "      <th>PR AUC</th>\n",
       "      <th>Business Impact</th>\n",
       "      <th>Training Time (s)</th>\n",
       "    </tr>\n",
       "  </thead>\n",
       "  <tbody>\n",
       "    <tr>\n",
       "      <th>2</th>\n",
       "      <td>XGBoost</td>\n",
       "      <td>0.999423</td>\n",
       "      <td>15513.0</td>\n",
       "      <td>12.814055</td>\n",
       "    </tr>\n",
       "    <tr>\n",
       "      <th>1</th>\n",
       "      <td>RandomForest</td>\n",
       "      <td>0.999211</td>\n",
       "      <td>23698.0</td>\n",
       "      <td>465.012109</td>\n",
       "    </tr>\n",
       "    <tr>\n",
       "      <th>0</th>\n",
       "      <td>LogisticRegression</td>\n",
       "      <td>0.989419</td>\n",
       "      <td>80191.0</td>\n",
       "      <td>11.198101</td>\n",
       "    </tr>\n",
       "  </tbody>\n",
       "</table>\n",
       "</div>"
      ],
      "text/plain": [
       "                Model    PR AUC  Business Impact  Training Time (s)\n",
       "2             XGBoost  0.999423          15513.0          12.814055\n",
       "1        RandomForest  0.999211          23698.0         465.012109\n",
       "0  LogisticRegression  0.989419          80191.0          11.198101"
      ]
     },
     "metadata": {},
     "output_type": "display_data"
    }
   ],
   "source": [
    "# Display results\n",
    "results_df = pd.DataFrame({\n",
    "    'Model': [],\n",
    "    'PR AUC': [],\n",
    "    'Business Impact': [],\n",
    "    'Training Time (s)': []\n",
    "})\n",
    "\n",
    "for name, result in results.items():\n",
    "    results_df = pd.concat([results_df, pd.DataFrame({\n",
    "        'Model': [name],\n",
    "        'PR AUC': [result['pr_auc']],\n",
    "        'Business Impact': [result['business_impact']],\n",
    "        'Training Time (s)': [result['training_time']]\n",
    "    })], ignore_index=True)\n",
    "\n",
    "print(\"Model Comparison Results:\")\n",
    "display(results_df.sort_values('PR AUC', ascending=False))"
   ]
  },
  {
   "cell_type": "code",
   "execution_count": 10,
   "id": "d8728c4d",
   "metadata": {},
   "outputs": [
    {
     "name": "stdout",
     "output_type": "stream",
     "text": [
      "Best model: XGBoost\n",
      "Precision-Recall AUC: 0.9994\n",
      "Business impact: $15,513.00\n",
      "Model saved to models/fraud_model.pkl\n"
     ]
    }
   ],
   "source": [
    "# Select the best model\n",
    "best_model_name, best_model_info = select_best_model(results)\n",
    "print(f\"Best model: {best_model_name}\")\n",
    "print(f\"Precision-Recall AUC: {best_model_info['pr_auc']:.4f}\")\n",
    "print(f\"Business impact: ${best_model_info['business_impact']:,.2f}\")\n",
    "\n",
    "# Save the best model\n",
    "save_model(best_model_info['model'], 'models/fraud_model.pkl')\n",
    "print(\"Model saved to models/fraud_model.pkl\")"
   ]
  },
  {
   "cell_type": "code",
   "execution_count": 11,
   "id": "9771c08a",
   "metadata": {},
   "outputs": [
    {
     "data": {
      "image/png": "[encoded data removed]",
      "text/plain": [
       "<Figure size 1200x600 with 2 Axes>"
      ]
     },
     "metadata": {},
     "output_type": "display_data"
    }
   ],
   "source": [
    "# Create performance comparison plot\n",
    "plt.figure(figsize=(12, 6))\n",
    "\n",
    "# PR AUC comparison\n",
    "plt.subplot(1, 2, 1)\n",
    "plt.bar(results_df['Model'], results_df['PR AUC'], color=['skyblue', 'lightgreen', 'salmon'])\n",
    "plt.title('Precision-Recall AUC by Model')\n",
    "plt.ylabel('PR AUC')\n",
    "plt.xticks(rotation=45)\n",
    "\n",
    "# Business impact comparison\n",
    "plt.subplot(1, 2, 2)\n",
    "plt.bar(results_df['Model'], results_df['Business Impact'], color=['skyblue', 'lightgreen', 'salmon'])\n",
    "plt.title('Business Impact by Model')\n",
    "plt.ylabel('Cost ($)')\n",
    "plt.xticks(rotation=45)\n",
    "\n",
    "plt.tight_layout()\n",
    "plt.show()"
   ]
  },
  {
   "cell_type": "code",
   "execution_count": 12,
   "id": "86d52069",
   "metadata": {},
   "outputs": [
    {
     "name": "stdout",
     "output_type": "stream",
     "text": [
      "Confusion Matrix Values:\n",
      "========================\n",
      "\n",
      "LogisticRegression:\n",
      "True Negatives: 194344\n",
      "False Positives: 15143\n",
      "False Negatives: 4476\n",
      "True Positives: 205011\n",
      "\n",
      "RandomForest:\n",
      "True Negatives: 205131\n",
      "False Positives: 4356\n",
      "False Negatives: 1918\n",
      "True Positives: 207569\n",
      "\n",
      "XGBoost:\n",
      "True Negatives: 206788\n",
      "False Positives: 2699\n",
      "False Negatives: 2018\n",
      "True Positives: 207469\n"
     ]
    }
   ],
   "source": [
    "# Display confusion matrix values\n",
    "print(\"Confusion Matrix Values:\")\n",
    "print(\"========================\")\n",
    "for name, result in results.items():\n",
    "    tn, fp, fn, tp = result['confusion_matrix']\n",
    "    print(f\"\\n{name}:\")\n",
    "    print(f\"True Negatives: {tn}\")\n",
    "    print(f\"False Positives: {fp}\")\n",
    "    print(f\"False Negatives: {fn}\")\n",
    "    print(f\"True Positives: {tp}\")"
   ]
  },
  {
   "cell_type": "code",
   "execution_count": 13,
   "id": "89f1bf61",
   "metadata": {},
   "outputs": [
    {
     "name": "stdout",
     "output_type": "stream",
     "text": [
      "Fraud Detection Analysis Summary\n",
      "================================\n",
      "Best Model: XGBoost\n",
      "Precision-Recall AUC: 0.9994\n",
      "Business Impact: $15,513.00\n",
      "Fraud Detection Rate: 99.04%\n",
      "Cost Savings Compared to Blocking All Transactions: $2,079,357.00\n"
     ]
    }
   ],
   "source": [
    "# Final summary\n",
    "print(\"Fraud Detection Analysis Summary\")\n",
    "print(\"================================\")\n",
    "print(f\"Best Model: {best_model_name}\")\n",
    "print(f\"Precision-Recall AUC: {best_model_info['pr_auc']:.4f}\")\n",
    "print(f\"Business Impact: ${best_model_info['business_impact']:,.2f}\")\n",
    "print(f\"Fraud Detection Rate: {best_model_info['confusion_matrix'][3] / (best_model_info['confusion_matrix'][3] + best_model_info['confusion_matrix'][2]):.2%}\")\n",
    "\n",
    "# Calculate cost savings compared to no model\n",
    "no_model_cost = len(y_test_processed) * 5  # If we blocked all transactions\n",
    "cost_savings = no_model_cost - best_model_info['business_impact']\n",
    "print(f\"Cost Savings Compared to Blocking All Transactions: ${cost_savings:,.2f}\")"
   ]
  },
  {
   "cell_type": "code",
   "execution_count": 14,
   "id": "508cd42d",
   "metadata": {},
   "outputs": [
    {
     "name": "stdout",
     "output_type": "stream",
     "text": [
      "\n",
      "Why a 99.9% Accurate Model Would Be Useless in Fraud Detection:\n",
      "================================================================\n",
      "\n",
      "In fraud detection with extreme class imbalance (only 0.2% fraudulent transactions), \n",
      "a model that achieves 99.9% accuracy would be useless because:\n",
      "\n",
      "1. A model that simply predicts \"not fraud\" for all transactions would achieve ~99.8% \n",
      "   accuracy but catch 0% of actual fraud.\n",
      "\n",
      "2. Accuracy doesn't account for the asymmetric business costs: false positives \n",
      "   (blocking legitimate transactions) cost 5x more than false negatives (missing fraud).\n",
      "\n",
      "3. Precision and recall are much more informative metrics for imbalanced classification problems.\n",
      "\n",
      "Scikit-learn helps avoid this pitfall through:\n",
      "- Class weighting options (class_weight='balanced')\n",
      "- Appropriate scoring metrics (precision_recall_auc)\n",
      "- Resampling techniques (SMOTE, NearMiss)\n",
      "- Cost-sensitive learning approaches\n",
      "\n"
     ]
    }
   ],
   "source": [
    "# Explain why a 99.9% accurate model would be useless\n",
    "print(\"\"\"\n",
    "Why a 99.9% Accurate Model Would Be Useless in Fraud Detection:\n",
    "================================================================\n",
    "\n",
    "In fraud detection with extreme class imbalance (only 0.2% fraudulent transactions), \n",
    "a model that achieves 99.9% accuracy would be useless because:\n",
    "\n",
    "1. A model that simply predicts \"not fraud\" for all transactions would achieve ~99.8% \n",
    "   accuracy but catch 0% of actual fraud.\n",
    "\n",
    "2. Accuracy doesn't account for the asymmetric business costs: false positives \n",
    "   (blocking legitimate transactions) cost 5x more than false negatives (missing fraud).\n",
    "\n",
    "3. Precision and recall are much more informative metrics for imbalanced classification problems.\n",
    "\n",
    "Scikit-learn helps avoid this pitfall through:\n",
    "- Class weighting options (class_weight='balanced')\n",
    "- Appropriate scoring metrics (precision_recall_auc)\n",
    "- Resampling techniques (SMOTE, NearMiss)\n",
    "- Cost-sensitive learning approaches\n",
    "\"\"\")"
   ]
  }
 ],
 "metadata": {
  "kernelspec": {
   "display_name": "venv",
   "language": "python",
   "name": "python3"
  },
  "language_info": {
   "codemirror_mode": {
    "name": "ipython",
    "version": 3
   },
   "file_extension": ".py",
   "mimetype": "text/x-python",
   "name": "python",
   "nbconvert_exporter": "python",
   "pygments_lexer": "ipython3",
   "version": "3.13.5"
  }
 },
 "nbformat": 4,
 "nbformat_minor": 5
}
